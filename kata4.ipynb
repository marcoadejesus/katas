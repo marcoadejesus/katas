{
 "cells": [
  {
   "cell_type": "markdown",
   "metadata": {},
   "source": [
    "## Ejercicio 1: Transformar cadenas"
   ]
  },
  {
   "cell_type": "code",
   "execution_count": null,
   "metadata": {},
   "outputs": [],
   "source": [
    "text = \"Interesting facts about the Moon. The Moon is Earth's only satellite. There are several interesting facts about the Moon and how it affects life here on Earth. On average, the Moon moves 4cm away from the Earth every year. This yearly drift is not significant enough to cause immediate effects on Earth. The highest daylight temperature of the Moon is 127 C.\"\n",
    "\n",
    "# Añade el código necesario\n",
    "oraciones = text.split('. ')\n",
    "#print(oraciones)\n",
    "\n",
    "# Define las palabras pista: average, temperature y distance suenan bien\n",
    "claves = [\"average\",\"temperature\", \"distance\"]\n",
    "\n",
    "# Ciclo for para recorrer la cadena\n",
    "for oracion in oraciones:\n",
    "    for clave in claves:\n",
    "        if clave in oracion:\n",
    "            print(oracion)\n",
    "\n",
    "# Ciclo para cambiar C a Celsius\n",
    "temp = \"temperature\"\n",
    "\n",
    "for oracion in oraciones:\n",
    "    if temp in oracion:\n",
    "        print(oracion.replace('C','Celsius'))\n",
    "\n",
    "\n",
    "\n",
    "\n",
    "\n",
    "##print(oraciones)"
   ]
  },
  {
   "cell_type": "markdown",
   "metadata": {},
   "source": [
    "## Ejercicio 2: Formateando Cadenas"
   ]
  },
  {
   "cell_type": "code",
   "execution_count": 12,
   "metadata": {},
   "outputs": [
    {
     "name": "stdout",
     "output_type": "stream",
     "text": [
      "Gravity Facts about Moon\n",
      "Planeta: Earth\n",
      "Gravedad: 1.6199999999999999\n",
      "Nombre: Moon\n",
      "\n",
      "Gravity Facts about Ganímedes\n",
      "Planeta: Marte \n",
      "Gravedad: 1.4300000000000002\n",
      "Nombre: Ganímedes\n",
      "\n"
     ]
    }
   ],
   "source": [
    "# Datos con los que vas a trabajar\n",
    "name = \"Moon\"\n",
    "gravity = 0.00162*1000 # in kms\n",
    "planet = \"Earth\"\n",
    "\n",
    "# Creamos el título\n",
    "titulo = f'Gravity Facts about {name}'\n",
    "#print(titulo)\n",
    "\n",
    "# Creamos la plantilla\n",
    "plantilla = f'Planeta: {planet}\\nGravedad: {gravity}\\nNombre: {name}'\n",
    "msg = titulo+'\\n'+plantilla\n",
    "print(msg)\n",
    "\n",
    "\n",
    "# Datos muestra:\n",
    "\n",
    "planet = 'Marte '\n",
    "gravity  = 0.00143*1000\n",
    "name = 'Ganímedes'\n",
    "\n",
    "#print(msg)\n",
    "\n",
    "# Nueva plantilla\n",
    "new_template = \"\"\"\n",
    "Gravity Facts about {name}\n",
    "Planeta: {planet}\n",
    "Gravedad: {gravity}\n",
    "Nombre: {name}\n",
    "\"\"\"\n",
    "print(new_template.format(planet=planet, gravity=gravity,name=name))\n"
   ]
  }
 ],
 "metadata": {
  "interpreter": {
   "hash": "aee8b7b246df8f9039afb4144a1f6fd8d2ca17a180786b69acc140d282b71a49"
  },
  "kernelspec": {
   "display_name": "Python 3.10.2 64-bit",
   "language": "python",
   "name": "python3"
  },
  "language_info": {
   "codemirror_mode": {
    "name": "ipython",
    "version": 3
   },
   "file_extension": ".py",
   "mimetype": "text/x-python",
   "name": "python",
   "nbconvert_exporter": "python",
   "pygments_lexer": "ipython3",
   "version": "3.10.2"
  },
  "orig_nbformat": 4
 },
 "nbformat": 4,
 "nbformat_minor": 2
}
