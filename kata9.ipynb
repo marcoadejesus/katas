{
 "cells": [
  {
   "cell_type": "markdown",
   "metadata": {},
   "source": [
    "## Ejercicio: Uso de funciones en Python"
   ]
  },
  {
   "cell_type": "code",
   "execution_count": null,
   "metadata": {},
   "outputs": [],
   "source": [
    "# Función para leer 3 tanques de combustible y muestre el promedio\n",
    "\n",
    "def leer_Tanques(tanque1, tanque2, tanque3):\n",
    "    #prom = (tanque1 + tanque2 + tanque3) / 3\n",
    "    return f\"\"\"Total: {prom(tanque1,tanque2,tanque3)}%\n",
    "    tanque1: {tanque1}%\n",
    "    tanque2: {tanque2}%\n",
    "    tanque3: {tanque3}% \n",
    "    \"\"\"\n",
    "\n",
    "\n",
    "print(leer_Tanques(80,20,50))\n",
    "\n",
    "def prom(val1,val2,val3):\n",
    "    prom = (val1+val2+val3)/3\n",
    "    return prom\n",
    "\n",
    "#print(prom(80,20,50))\n"
   ]
  },
  {
   "cell_type": "markdown",
   "metadata": {},
   "source": [
    "## Ejercicio 2: Trabajo con argumentos de palabra clave"
   ]
  },
  {
   "cell_type": "code",
   "execution_count": null,
   "metadata": {},
   "outputs": [],
   "source": [
    "# Función con un informe preciso de la misión. Considera hora de prelanzamiento, tiempo de vuelo, destino, tanque externo y tanque interno\n",
    "def informeMision (prelanzamiento,tiempoVuelo,destino,tanqueExterno,tanqueInterno):\n",
    "    return f\"\"\"\n",
    "    tiempo de vuelo : {tiempoVuelo+prelanzamiento}\n",
    "    destino : {destino}\n",
    "    combustible : {tanqueInterno+tanqueExterno}\n",
    "    \"\"\"\n",
    "\n",
    "print(informeMision(10,120,'Luna',100,100))\n",
    "\n"
   ]
  },
  {
   "cell_type": "code",
   "execution_count": null,
   "metadata": {},
   "outputs": [],
   "source": [
    "# Escribe tu nueva función de reporte considerando lo anterior\n",
    "\n",
    "def informeMision (destino,*minutes, **fuel_reservoirs):\n",
    "    return f\"\"\"\n",
    "    tiempo de vuelo : {sum(minutes)}\n",
    "    destino : {destino}\n",
    "    combustible : {sum(fuel_reservoirs.values())}\n",
    "    \"\"\"\n",
    "print(informeMision(\"Marte\",100 ,20 ,60 ,tanque1=50 ,tanque2=100))\n"
   ]
  },
  {
   "cell_type": "code",
   "execution_count": 16,
   "metadata": {},
   "outputs": [
    {
     "name": "stdout",
     "output_type": "stream",
     "text": [
      "\n",
      "    tiempo de vuelo : 150\n",
      "    destino : Venus\n",
      "    combustible : 100\n",
      "    tanque1: 50%\n",
      "tanque2: 50%\n",
      "\n"
     ]
    }
   ],
   "source": [
    "# Escribe tu nueva función\n",
    "def informeMision (destino,*minutes, **fuel_reservoirs):\n",
    "    informe = f\"\"\"\n",
    "    tiempo de vuelo : {sum(minutes)}\n",
    "    destino : {destino}\n",
    "    combustible : {sum(fuel_reservoirs.values())}\n",
    "    \"\"\"\n",
    "    for tanque, total in fuel_reservoirs.items():\n",
    "        informe +=f\"{tanque}: {total}%\\n\"\n",
    "    return informe\n",
    "\n",
    "print(informeMision('Venus',100,20,30,tanque1 =50, tanque2=50))"
   ]
  }
 ],
 "metadata": {
  "interpreter": {
   "hash": "aee8b7b246df8f9039afb4144a1f6fd8d2ca17a180786b69acc140d282b71a49"
  },
  "kernelspec": {
   "display_name": "Python 3.10.2 64-bit",
   "language": "python",
   "name": "python3"
  },
  "language_info": {
   "codemirror_mode": {
    "name": "ipython",
    "version": 3
   },
   "file_extension": ".py",
   "mimetype": "text/x-python",
   "name": "python",
   "nbconvert_exporter": "python",
   "pygments_lexer": "ipython3",
   "version": "3.10.2"
  },
  "orig_nbformat": 4
 },
 "nbformat": 4,
 "nbformat_minor": 2
}
